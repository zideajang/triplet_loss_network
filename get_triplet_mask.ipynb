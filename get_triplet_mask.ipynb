{
 "cells": [
  {
   "cell_type": "code",
   "execution_count": 1,
   "id": "innocent-buyer",
   "metadata": {},
   "outputs": [],
   "source": [
    "import torch"
   ]
  },
  {
   "cell_type": "code",
   "execution_count": 23,
   "id": "sought-saint",
   "metadata": {},
   "outputs": [],
   "source": [
    "# 创建一个标签 tensor\n",
    "labels = torch.tensor([1,2,3,1,2])"
   ]
  },
  {
   "cell_type": "code",
   "execution_count": 24,
   "id": "accomplished-dollar",
   "metadata": {},
   "outputs": [
    {
     "data": {
      "text/plain": [
       "torch.Size([5])"
      ]
     },
     "execution_count": 24,
     "metadata": {},
     "output_type": "execute_result"
    }
   ],
   "source": [
    "# 输出标签的形状\n",
    "labels.shape"
   ]
  },
  {
   "cell_type": "code",
   "execution_count": 25,
   "id": "conscious-angel",
   "metadata": {},
   "outputs": [],
   "source": [
    "# 创建一个大小 batch_size x batch_size 的对角矩阵矩阵\n",
    "indices_equal = torch.eye(labels.size()[0]).type(torch.ByteTensor)"
   ]
  },
  {
   "cell_type": "code",
   "execution_count": 26,
   "id": "timely-evaluation",
   "metadata": {},
   "outputs": [
    {
     "data": {
      "text/plain": [
       "tensor([[1, 0, 0, 0, 0],\n",
       "        [0, 1, 0, 0, 0],\n",
       "        [0, 0, 1, 0, 0],\n",
       "        [0, 0, 0, 1, 0],\n",
       "        [0, 0, 0, 0, 1]], dtype=torch.uint8)"
      ]
     },
     "execution_count": 26,
     "metadata": {},
     "output_type": "execute_result"
    }
   ],
   "source": [
    "indices_equal"
   ]
  },
  {
   "cell_type": "code",
   "execution_count": 27,
   "id": "unsigned-senate",
   "metadata": {},
   "outputs": [],
   "source": [
    "# 将上面对角矩阵进行反转\n",
    "indices_not_equal = -(indices_equal - 1)"
   ]
  },
  {
   "cell_type": "code",
   "execution_count": 28,
   "id": "fabulous-empty",
   "metadata": {},
   "outputs": [
    {
     "data": {
      "text/plain": [
       "tensor([[0, 1, 1, 1, 1],\n",
       "        [1, 0, 1, 1, 1],\n",
       "        [1, 1, 0, 1, 1],\n",
       "        [1, 1, 1, 0, 1],\n",
       "        [1, 1, 1, 1, 0]], dtype=torch.uint8)"
      ]
     },
     "execution_count": 28,
     "metadata": {},
     "output_type": "execute_result"
    }
   ],
   "source": [
    "# 观察反转后的效果\n",
    "indices_not_equal"
   ]
  },
  {
   "cell_type": "code",
   "execution_count": 29,
   "id": "horizontal-christian",
   "metadata": {},
   "outputs": [],
   "source": [
    "# 1 x 5 x 5\n",
    "# 这里用 2 表示在第 2 个维度，对每个元素包裹一层\n",
    "i_not_equal_j = torch.unsqueeze(indices_not_equal, 2)"
   ]
  },
  {
   "cell_type": "code",
   "execution_count": 30,
   "id": "optical-japanese",
   "metadata": {},
   "outputs": [
    {
     "data": {
      "text/plain": [
       "tensor([[[0],\n",
       "         [1],\n",
       "         [1],\n",
       "         [1],\n",
       "         [1]],\n",
       "\n",
       "        [[1],\n",
       "         [0],\n",
       "         [1],\n",
       "         [1],\n",
       "         [1]],\n",
       "\n",
       "        [[1],\n",
       "         [1],\n",
       "         [0],\n",
       "         [1],\n",
       "         [1]],\n",
       "\n",
       "        [[1],\n",
       "         [1],\n",
       "         [1],\n",
       "         [0],\n",
       "         [1]],\n",
       "\n",
       "        [[1],\n",
       "         [1],\n",
       "         [1],\n",
       "         [1],\n",
       "         [0]]], dtype=torch.uint8)"
      ]
     },
     "execution_count": 30,
     "metadata": {},
     "output_type": "execute_result"
    }
   ],
   "source": [
    "i_not_equal_j"
   ]
  },
  {
   "cell_type": "code",
   "execution_count": 31,
   "id": "domestic-thousand",
   "metadata": {},
   "outputs": [],
   "source": [
    "# 1 x 5 x 5\n",
    "# 这里用 2 表示在第 2 个维度，对每个元素包裹一层\n",
    "i_not_equal_k = torch.unsqueeze(indices_not_equal, 1)"
   ]
  },
  {
   "cell_type": "code",
   "execution_count": 32,
   "id": "ecological-result",
   "metadata": {},
   "outputs": [
    {
     "data": {
      "text/plain": [
       "tensor([[[0, 1, 1, 1, 1]],\n",
       "\n",
       "        [[1, 0, 1, 1, 1]],\n",
       "\n",
       "        [[1, 1, 0, 1, 1]],\n",
       "\n",
       "        [[1, 1, 1, 0, 1]],\n",
       "\n",
       "        [[1, 1, 1, 1, 0]]], dtype=torch.uint8)"
      ]
     },
     "execution_count": 32,
     "metadata": {},
     "output_type": "execute_result"
    }
   ],
   "source": [
    "i_not_equal_k"
   ]
  },
  {
   "cell_type": "code",
   "execution_count": 33,
   "id": "sharp-alliance",
   "metadata": {},
   "outputs": [],
   "source": [
    "j_not_equal_k = torch.unsqueeze(indices_not_equal, 0)"
   ]
  },
  {
   "cell_type": "code",
   "execution_count": 34,
   "id": "adjacent-cedar",
   "metadata": {},
   "outputs": [
    {
     "data": {
      "text/plain": [
       "tensor([[[0, 1, 1, 1, 1],\n",
       "         [1, 0, 1, 1, 1],\n",
       "         [1, 1, 0, 1, 1],\n",
       "         [1, 1, 1, 0, 1],\n",
       "         [1, 1, 1, 1, 0]]], dtype=torch.uint8)"
      ]
     },
     "execution_count": 34,
     "metadata": {},
     "output_type": "execute_result"
    }
   ],
   "source": [
    "j_not_equal_k"
   ]
  },
  {
   "cell_type": "code",
   "execution_count": 35,
   "id": "emerging-somewhere",
   "metadata": {},
   "outputs": [],
   "source": [
    "distinct_indices = (i_not_equal_j & i_not_equal_k) & j_not_equal_k"
   ]
  },
  {
   "cell_type": "code",
   "execution_count": 36,
   "id": "overhead-reservoir",
   "metadata": {},
   "outputs": [
    {
     "data": {
      "text/plain": [
       "tensor([[[0, 0, 0, 0, 0],\n",
       "         [0, 0, 1, 1, 1],\n",
       "         [0, 1, 0, 1, 1],\n",
       "         [0, 1, 1, 0, 1],\n",
       "         [0, 1, 1, 1, 0]],\n",
       "\n",
       "        [[0, 0, 1, 1, 1],\n",
       "         [0, 0, 0, 0, 0],\n",
       "         [1, 0, 0, 1, 1],\n",
       "         [1, 0, 1, 0, 1],\n",
       "         [1, 0, 1, 1, 0]],\n",
       "\n",
       "        [[0, 1, 0, 1, 1],\n",
       "         [1, 0, 0, 1, 1],\n",
       "         [0, 0, 0, 0, 0],\n",
       "         [1, 1, 0, 0, 1],\n",
       "         [1, 1, 0, 1, 0]],\n",
       "\n",
       "        [[0, 1, 1, 0, 1],\n",
       "         [1, 0, 1, 0, 1],\n",
       "         [1, 1, 0, 0, 1],\n",
       "         [0, 0, 0, 0, 0],\n",
       "         [1, 1, 1, 0, 0]],\n",
       "\n",
       "        [[0, 1, 1, 1, 0],\n",
       "         [1, 0, 1, 1, 0],\n",
       "         [1, 1, 0, 1, 0],\n",
       "         [1, 1, 1, 0, 0],\n",
       "         [0, 0, 0, 0, 0]]], dtype=torch.uint8)"
      ]
     },
     "execution_count": 36,
     "metadata": {},
     "output_type": "execute_result"
    }
   ],
   "source": [
    "distinct_indices"
   ]
  },
  {
   "cell_type": "code",
   "execution_count": 37,
   "id": "operational-employment",
   "metadata": {},
   "outputs": [],
   "source": [
    "label_equal = (torch.unsqueeze(labels, 0) == torch.unsqueeze(labels, 1))"
   ]
  },
  {
   "cell_type": "code",
   "execution_count": 38,
   "id": "guilty-springer",
   "metadata": {},
   "outputs": [
    {
     "data": {
      "text/plain": [
       "tensor([[ True, False, False,  True, False],\n",
       "        [False,  True, False, False,  True],\n",
       "        [False, False,  True, False, False],\n",
       "        [ True, False, False,  True, False],\n",
       "        [False,  True, False, False,  True]])"
      ]
     },
     "execution_count": 38,
     "metadata": {},
     "output_type": "execute_result"
    }
   ],
   "source": [
    "label_equal"
   ]
  },
  {
   "cell_type": "code",
   "execution_count": 39,
   "id": "outstanding-brake",
   "metadata": {},
   "outputs": [],
   "source": [
    "i_equal_j = torch.unsqueeze(label_equal, 2)\n",
    "i_equal_k = torch.unsqueeze(label_equal, 1)"
   ]
  },
  {
   "cell_type": "code",
   "execution_count": 40,
   "id": "historical-ecology",
   "metadata": {},
   "outputs": [],
   "source": [
    "valid_labels = (i_equal_j & ~i_equal_k)"
   ]
  },
  {
   "cell_type": "code",
   "execution_count": 41,
   "id": "charged-carolina",
   "metadata": {},
   "outputs": [],
   "source": [
    "mask = (distinct_indices.to('cpu').bool() & valid_labels)"
   ]
  },
  {
   "cell_type": "code",
   "execution_count": 42,
   "id": "choice-horizon",
   "metadata": {},
   "outputs": [
    {
     "data": {
      "text/plain": [
       "tensor([[[False, False, False, False, False],\n",
       "         [False, False, False, False, False],\n",
       "         [False, False, False, False, False],\n",
       "         [False,  True,  True, False,  True],\n",
       "         [False, False, False, False, False]],\n",
       "\n",
       "        [[False, False, False, False, False],\n",
       "         [False, False, False, False, False],\n",
       "         [False, False, False, False, False],\n",
       "         [False, False, False, False, False],\n",
       "         [ True, False,  True,  True, False]],\n",
       "\n",
       "        [[False, False, False, False, False],\n",
       "         [False, False, False, False, False],\n",
       "         [False, False, False, False, False],\n",
       "         [False, False, False, False, False],\n",
       "         [False, False, False, False, False]],\n",
       "\n",
       "        [[False,  True,  True, False,  True],\n",
       "         [False, False, False, False, False],\n",
       "         [False, False, False, False, False],\n",
       "         [False, False, False, False, False],\n",
       "         [False, False, False, False, False]],\n",
       "\n",
       "        [[False, False, False, False, False],\n",
       "         [ True, False,  True,  True, False],\n",
       "         [False, False, False, False, False],\n",
       "         [False, False, False, False, False],\n",
       "         [False, False, False, False, False]]])"
      ]
     },
     "execution_count": 42,
     "metadata": {},
     "output_type": "execute_result"
    }
   ],
   "source": [
    "mask"
   ]
  },
  {
   "cell_type": "code",
   "execution_count": null,
   "id": "alive-cleaning",
   "metadata": {},
   "outputs": [],
   "source": []
  }
 ],
 "metadata": {
  "kernelspec": {
   "display_name": "Python 3",
   "language": "python",
   "name": "python3"
  },
  "language_info": {
   "codemirror_mode": {
    "name": "ipython",
    "version": 3
   },
   "file_extension": ".py",
   "mimetype": "text/x-python",
   "name": "python",
   "nbconvert_exporter": "python",
   "pygments_lexer": "ipython3",
   "version": "3.7.9"
  }
 },
 "nbformat": 4,
 "nbformat_minor": 5
}
